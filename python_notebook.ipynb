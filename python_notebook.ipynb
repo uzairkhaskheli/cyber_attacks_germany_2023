{
 "cells": [
  {
   "cell_type": "code",
   "execution_count": 13,
   "id": "0f5f0672",
   "metadata": {},
   "outputs": [],
   "source": [
    "#importing pandas library\n",
    "import pandas as pd"
   ]
  },
  {
   "cell_type": "code",
   "execution_count": 14,
   "id": "0e53e9fd",
   "metadata": {},
   "outputs": [],
   "source": [
    "#inserting url of the website\n",
    "url = \"https://konbriefing.com/en-topics/hacker-attacks-germany.html#resblock1\"\n",
    "#from the list getting the first element of dataframe \n",
    "df = pd.read_html(url)[0]\n",
    "#dropping serial number column\n",
    "df = df.drop(['#'], axis = 1)"
   ]
  },
  {
   "cell_type": "code",
   "execution_count": 15,
   "id": "b4ee773b",
   "metadata": {
    "scrolled": true
   },
   "outputs": [],
   "source": [
    "#rename all columns\n",
    "df.rename(columns={df.columns[0]: 'date', df.columns[1]: 'city', df.columns[2]: 'state', df.columns[3]: 'place'},inplace=True)"
   ]
  },
  {
   "cell_type": "code",
   "execution_count": 16,
   "id": "1f85e58c",
   "metadata": {},
   "outputs": [],
   "source": [
    "#dropping rows where city and place are empty\n",
    "df = df.dropna(subset=['city', 'place'])"
   ]
  },
  {
   "cell_type": "code",
   "execution_count": 17,
   "id": "d9bef98b",
   "metadata": {},
   "outputs": [],
   "source": [
    "#filling the values of missing state using filling forward from city column\n",
    "df = df.fillna(method='ffill', axis = 1)"
   ]
  },
  {
   "cell_type": "code",
   "execution_count": 18,
   "id": "2d4d5e6d",
   "metadata": {},
   "outputs": [],
   "source": [
    "#replacing the repeated state names\n",
    "df =  df.replace({'state' : {'Nordrhein-Westfalen' : 'North Rhine-Westphalia',\n",
    "                              'Sachsen-Anhalt' : 'Saxony-Anhalt',\n",
    "                              'Heide (Holstein)' : 'Schleswig-Holstein',\n",
    "                              'Rheinland-Pfalz': 'Rhineland-Palatinate'\n",
    "                             }})"
   ]
  },
  {
   "cell_type": "code",
   "execution_count": 19,
   "id": "a2d627f8",
   "metadata": {},
   "outputs": [],
   "source": [
    "df.to_csv('cyber.csv')"
   ]
  },
  {
   "cell_type": "code",
   "execution_count": null,
   "id": "64a31bb6",
   "metadata": {},
   "outputs": [],
   "source": []
  },
  {
   "cell_type": "code",
   "execution_count": null,
   "id": "c81d88a1",
   "metadata": {},
   "outputs": [],
   "source": []
  }
 ],
 "metadata": {
  "kernelspec": {
   "display_name": "Python 3 (ipykernel)",
   "language": "python",
   "name": "python3"
  },
  "language_info": {
   "codemirror_mode": {
    "name": "ipython",
    "version": 3
   },
   "file_extension": ".py",
   "mimetype": "text/x-python",
   "name": "python",
   "nbconvert_exporter": "python",
   "pygments_lexer": "ipython3",
   "version": "3.9.13"
  }
 },
 "nbformat": 4,
 "nbformat_minor": 5
}
